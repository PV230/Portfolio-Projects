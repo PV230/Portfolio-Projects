{
 "cells": [
  {
   "cell_type": "markdown",
   "metadata": {},
   "source": [
    "# Trade Area Modelling with Huff Model"
   ]
  },
  {
   "cell_type": "markdown",
   "metadata": {},
   "source": [
    "The project objective is to identify the most optimal location for a retail chain to open a new store in Montreal.\n",
    "\n",
    "The dataset contains 3 sheets, the first sheet 'Distance' contains information about the retail store's customer community based in Montreal and their distance (in kilometres) to the nearest existing store. The 'Census' sheet contains data about the number of households in each community and their average expenditure on grocery. The 'Stores' sheet contains data about the attractiveness attributes - size, parking space, highways, traffic, accessibility and design."
   ]
  },
  {
   "cell_type": "code",
   "execution_count": 1,
   "metadata": {},
   "outputs": [],
   "source": [
    "import pandas as pd\n",
    "import numpy as np"
   ]
  },
  {
   "cell_type": "code",
   "execution_count": 2,
   "metadata": {},
   "outputs": [],
   "source": [
    "#Importing store's data containing customer community names and their distance to the existing stores (in km)\n",
    "xls = pd.ExcelFile(r\"C:\\Users\\praja\\OneDrive\\Desktop\\1 Trade Area Modelling\\trade.xlsx')"
   ]
  },
  {
   "cell_type": "code",
   "execution_count": 3,
   "metadata": {},
   "outputs": [
    {
     "data": {
      "text/plain": [
       "['Distance', 'Census', 'stores']"
      ]
     },
     "execution_count": 3,
     "metadata": {},
     "output_type": "execute_result"
    }
   ],
   "source": [
    "# Verifying that store's attractiveness attributes have been loaded\n",
    "xls.sheet_names"
   ]
  },
  {
   "cell_type": "code",
   "execution_count": 6,
   "metadata": {},
   "outputs": [],
   "source": [
    "#Loading distance data into datatframe and assigning customer community as index column\n",
    "distance = xls.parse(0, index_col=0)"
   ]
  },
  {
   "cell_type": "code",
   "execution_count": 7,
   "metadata": {},
   "outputs": [
    {
     "name": "stdout",
     "output_type": "stream",
     "text": [
      "                    Rosmere  saint-rose  Laval de Rapides  Boisbraind\n",
      "customer community                                                   \n",
      "Blainville               30          70               130          40\n",
      "Boisbrand                20          20               110           1\n",
      "Saint therese            20          40               130          20\n",
      "Fabre villee             50          20                40          40\n",
      "Laval de Rapides         80          70                 1          80\n",
      "Sainte Dorothee         100          70                40         100\n",
      "Carterville             120          80                20         100\n",
      "bois des filion          30          70               120          80\n",
      "Deux Montagnes          150         100                90         100\n"
     ]
    }
   ],
   "source": [
    "print(distance)"
   ]
  },
  {
   "cell_type": "code",
   "execution_count": 8,
   "metadata": {},
   "outputs": [],
   "source": [
    "#Loading the 2nd Excel sheet census into a dataframe\n",
    "census = xls.parse(1, index_col=0)"
   ]
  },
  {
   "cell_type": "code",
   "execution_count": 9,
   "metadata": {},
   "outputs": [
    {
     "name": "stdout",
     "output_type": "stream",
     "text": [
      "                    Households  Expenditure grocery\n",
      "customer community                                 \n",
      "Blainville                4000                  800\n",
      "Boisbrand                 8000                 1000\n",
      "Saint therese            12000                 1100\n",
      "Fabre villee              6000                  700\n",
      "Laval de Rapides          1000                 1200\n",
      "Sainte Dorothee           7000                  500\n",
      "Carterville               9000                  700\n",
      "bois des filion           5000                  900\n",
      "Deux Montagnes            4000                 1400\n"
     ]
    }
   ],
   "source": [
    "print(census)"
   ]
  },
  {
   "cell_type": "code",
   "execution_count": 10,
   "metadata": {},
   "outputs": [],
   "source": [
    "# Creating a new column 'Total Expenditure'\n",
    "\n",
    "census['Total Expenditure'] = census['Households']*census['Expenditure grocery']"
   ]
  },
  {
   "cell_type": "code",
   "execution_count": 14,
   "metadata": {},
   "outputs": [],
   "source": [
    "# Loading 3rd Excel sheet 'stores' into a dataframe\n",
    "attractiveness = xls.parse(2, index_col=0)"
   ]
  },
  {
   "cell_type": "code",
   "execution_count": 15,
   "metadata": {},
   "outputs": [
    {
     "data": {
      "text/html": [
       "<div>\n",
       "<style scoped>\n",
       "    .dataframe tbody tr th:only-of-type {\n",
       "        vertical-align: middle;\n",
       "    }\n",
       "\n",
       "    .dataframe tbody tr th {\n",
       "        vertical-align: top;\n",
       "    }\n",
       "\n",
       "    .dataframe thead th {\n",
       "        text-align: right;\n",
       "    }\n",
       "</style>\n",
       "<table border=\"1\" class=\"dataframe\">\n",
       "  <thead>\n",
       "    <tr style=\"text-align: right;\">\n",
       "      <th></th>\n",
       "      <th>Size</th>\n",
       "      <th>Parking spaces</th>\n",
       "      <th>Highways</th>\n",
       "      <th>Traffic</th>\n",
       "      <th>Accessibility</th>\n",
       "      <th>Design</th>\n",
       "    </tr>\n",
       "    <tr>\n",
       "      <th>customer community</th>\n",
       "      <th></th>\n",
       "      <th></th>\n",
       "      <th></th>\n",
       "      <th></th>\n",
       "      <th></th>\n",
       "      <th></th>\n",
       "    </tr>\n",
       "  </thead>\n",
       "  <tbody>\n",
       "    <tr>\n",
       "      <th>Rosmere</th>\n",
       "      <td>1000</td>\n",
       "      <td>200</td>\n",
       "      <td>4</td>\n",
       "      <td>4</td>\n",
       "      <td>10</td>\n",
       "      <td>7</td>\n",
       "    </tr>\n",
       "    <tr>\n",
       "      <th>saint-rose</th>\n",
       "      <td>1100</td>\n",
       "      <td>150</td>\n",
       "      <td>2</td>\n",
       "      <td>8</td>\n",
       "      <td>7</td>\n",
       "      <td>7</td>\n",
       "    </tr>\n",
       "    <tr>\n",
       "      <th>Laval de Rapides</th>\n",
       "      <td>800</td>\n",
       "      <td>120</td>\n",
       "      <td>3</td>\n",
       "      <td>2</td>\n",
       "      <td>8</td>\n",
       "      <td>6</td>\n",
       "    </tr>\n",
       "    <tr>\n",
       "      <th>Boisbraind</th>\n",
       "      <td>1300</td>\n",
       "      <td>220</td>\n",
       "      <td>5</td>\n",
       "      <td>6</td>\n",
       "      <td>5</td>\n",
       "      <td>10</td>\n",
       "    </tr>\n",
       "  </tbody>\n",
       "</table>\n",
       "</div>"
      ],
      "text/plain": [
       "                    Size  Parking spaces  Highways  Traffic  Accessibility  \\\n",
       "customer community                                                           \n",
       "Rosmere             1000             200         4        4             10   \n",
       "saint-rose          1100             150         2        8              7   \n",
       "Laval de Rapides     800             120         3        2              8   \n",
       "Boisbraind          1300             220         5        6              5   \n",
       "\n",
       "                    Design  \n",
       "customer community          \n",
       "Rosmere                  7  \n",
       "saint-rose               7  \n",
       "Laval de Rapides         6  \n",
       "Boisbraind              10  "
      ]
     },
     "execution_count": 15,
     "metadata": {},
     "output_type": "execute_result"
    }
   ],
   "source": [
    "attractiveness"
   ]
  },
  {
   "cell_type": "code",
   "execution_count": 16,
   "metadata": {},
   "outputs": [],
   "source": [
    "stores = np.unique(attractiveness.index)"
   ]
  },
  {
   "cell_type": "code",
   "execution_count": 17,
   "metadata": {},
   "outputs": [],
   "source": [
    "communities = np.unique(distance.index)"
   ]
  },
  {
   "cell_type": "code",
   "execution_count": 21,
   "metadata": {},
   "outputs": [],
   "source": [
    "# Creating a tuple that contains every store and every community\n",
    "# x = community, y = stores\n",
    "keys = [(x,y) for x in communities for y in stores]"
   ]
  },
  {
   "cell_type": "code",
   "execution_count": 22,
   "metadata": {},
   "outputs": [
    {
     "data": {
      "text/plain": [
       "[('Blainville', 'Boisbraind'),\n",
       " ('Blainville', 'Laval de Rapides'),\n",
       " ('Blainville', 'Rosmere'),\n",
       " ('Blainville', 'saint-rose'),\n",
       " ('Boisbrand', 'Boisbraind'),\n",
       " ('Boisbrand', 'Laval de Rapides'),\n",
       " ('Boisbrand', 'Rosmere'),\n",
       " ('Boisbrand', 'saint-rose'),\n",
       " ('Carterville', 'Boisbraind'),\n",
       " ('Carterville', 'Laval de Rapides'),\n",
       " ('Carterville', 'Rosmere'),\n",
       " ('Carterville', 'saint-rose'),\n",
       " ('Deux Montagnes', 'Boisbraind'),\n",
       " ('Deux Montagnes', 'Laval de Rapides'),\n",
       " ('Deux Montagnes', 'Rosmere'),\n",
       " ('Deux Montagnes', 'saint-rose'),\n",
       " ('Fabre villee', 'Boisbraind'),\n",
       " ('Fabre villee', 'Laval de Rapides'),\n",
       " ('Fabre villee', 'Rosmere'),\n",
       " ('Fabre villee', 'saint-rose'),\n",
       " ('Laval de Rapides', 'Boisbraind'),\n",
       " ('Laval de Rapides', 'Laval de Rapides'),\n",
       " ('Laval de Rapides', 'Rosmere'),\n",
       " ('Laval de Rapides', 'saint-rose'),\n",
       " ('Saint therese', 'Boisbraind'),\n",
       " ('Saint therese', 'Laval de Rapides'),\n",
       " ('Saint therese', 'Rosmere'),\n",
       " ('Saint therese', 'saint-rose'),\n",
       " ('Sainte Dorothee', 'Boisbraind'),\n",
       " ('Sainte Dorothee', 'Laval de Rapides'),\n",
       " ('Sainte Dorothee', 'Rosmere'),\n",
       " ('Sainte Dorothee', 'saint-rose'),\n",
       " ('bois des filion', 'Boisbraind'),\n",
       " ('bois des filion', 'Laval de Rapides'),\n",
       " ('bois des filion', 'Rosmere'),\n",
       " ('bois des filion', 'saint-rose')]"
      ]
     },
     "execution_count": 22,
     "metadata": {},
     "output_type": "execute_result"
    }
   ],
   "source": [
    "keys # Now every customer community type is in every store"
   ]
  },
  {
   "cell_type": "markdown",
   "metadata": {},
   "source": [
    "## Scaling the attractiveness attributes"
   ]
  },
  {
   "cell_type": "code",
   "execution_count": 23,
   "metadata": {},
   "outputs": [],
   "source": [
    "scaled = (attractiveness-attractiveness.min())/(attractiveness.max()-attractiveness.min())"
   ]
  },
  {
   "cell_type": "code",
   "execution_count": 24,
   "metadata": {},
   "outputs": [
    {
     "data": {
      "text/html": [
       "<div>\n",
       "<style scoped>\n",
       "    .dataframe tbody tr th:only-of-type {\n",
       "        vertical-align: middle;\n",
       "    }\n",
       "\n",
       "    .dataframe tbody tr th {\n",
       "        vertical-align: top;\n",
       "    }\n",
       "\n",
       "    .dataframe thead th {\n",
       "        text-align: right;\n",
       "    }\n",
       "</style>\n",
       "<table border=\"1\" class=\"dataframe\">\n",
       "  <thead>\n",
       "    <tr style=\"text-align: right;\">\n",
       "      <th></th>\n",
       "      <th>Size</th>\n",
       "      <th>Parking spaces</th>\n",
       "      <th>Highways</th>\n",
       "      <th>Traffic</th>\n",
       "      <th>Accessibility</th>\n",
       "      <th>Design</th>\n",
       "    </tr>\n",
       "    <tr>\n",
       "      <th>customer community</th>\n",
       "      <th></th>\n",
       "      <th></th>\n",
       "      <th></th>\n",
       "      <th></th>\n",
       "      <th></th>\n",
       "      <th></th>\n",
       "    </tr>\n",
       "  </thead>\n",
       "  <tbody>\n",
       "    <tr>\n",
       "      <th>Rosmere</th>\n",
       "      <td>0.4</td>\n",
       "      <td>0.8</td>\n",
       "      <td>0.666667</td>\n",
       "      <td>0.333333</td>\n",
       "      <td>1.0</td>\n",
       "      <td>0.25</td>\n",
       "    </tr>\n",
       "    <tr>\n",
       "      <th>saint-rose</th>\n",
       "      <td>0.6</td>\n",
       "      <td>0.3</td>\n",
       "      <td>0.000000</td>\n",
       "      <td>1.000000</td>\n",
       "      <td>0.4</td>\n",
       "      <td>0.25</td>\n",
       "    </tr>\n",
       "    <tr>\n",
       "      <th>Laval de Rapides</th>\n",
       "      <td>0.0</td>\n",
       "      <td>0.0</td>\n",
       "      <td>0.333333</td>\n",
       "      <td>0.000000</td>\n",
       "      <td>0.6</td>\n",
       "      <td>0.00</td>\n",
       "    </tr>\n",
       "    <tr>\n",
       "      <th>Boisbraind</th>\n",
       "      <td>1.0</td>\n",
       "      <td>1.0</td>\n",
       "      <td>1.000000</td>\n",
       "      <td>0.666667</td>\n",
       "      <td>0.0</td>\n",
       "      <td>1.00</td>\n",
       "    </tr>\n",
       "  </tbody>\n",
       "</table>\n",
       "</div>"
      ],
      "text/plain": [
       "                    Size  Parking spaces  Highways   Traffic  Accessibility  \\\n",
       "customer community                                                            \n",
       "Rosmere              0.4             0.8  0.666667  0.333333            1.0   \n",
       "saint-rose           0.6             0.3  0.000000  1.000000            0.4   \n",
       "Laval de Rapides     0.0             0.0  0.333333  0.000000            0.6   \n",
       "Boisbraind           1.0             1.0  1.000000  0.666667            0.0   \n",
       "\n",
       "                    Design  \n",
       "customer community          \n",
       "Rosmere               0.25  \n",
       "saint-rose            0.25  \n",
       "Laval de Rapides      0.00  \n",
       "Boisbraind            1.00  "
      ]
     },
     "execution_count": 24,
     "metadata": {},
     "output_type": "execute_result"
    }
   ],
   "source": [
    "print(scaled)"
   ]
  },
  {
   "cell_type": "code",
   "execution_count": 25,
   "metadata": {},
   "outputs": [],
   "source": [
    "# Adding the scaled attributes and storing in a new column\n",
    "scaled['Attractiveness'] = (scaled['Size'] + scaled['Parking spaces'] + scaled['Highways'] + scaled['Traffic'] + scaled['Accessibility'] + scaled['Design'])"
   ]
  },
  {
   "cell_type": "code",
   "execution_count": 26,
   "metadata": {},
   "outputs": [
    {
     "name": "stdout",
     "output_type": "stream",
     "text": [
      "                    Size  Parking spaces  Highways   Traffic  Accessibility  \\\n",
      "customer community                                                            \n",
      "Rosmere              0.4             0.8  0.666667  0.333333            1.0   \n",
      "saint-rose           0.6             0.3  0.000000  1.000000            0.4   \n",
      "Laval de Rapides     0.0             0.0  0.333333  0.000000            0.6   \n",
      "Boisbraind           1.0             1.0  1.000000  0.666667            0.0   \n",
      "\n",
      "                    Design  Attractiveness  \n",
      "customer community                          \n",
      "Rosmere               0.25        3.450000  \n",
      "saint-rose            0.25        2.550000  \n",
      "Laval de Rapides      0.00        0.933333  \n",
      "Boisbraind            1.00        4.666667  \n"
     ]
    }
   ],
   "source": [
    "print(scaled)"
   ]
  },
  {
   "cell_type": "markdown",
   "metadata": {},
   "source": [
    "Boisbraind has the highest Attractiveness score."
   ]
  },
  {
   "cell_type": "markdown",
   "metadata": {},
   "source": [
    "## Calculating the numerator for every community and every store"
   ]
  },
  {
   "cell_type": "code",
   "execution_count": 27,
   "metadata": {},
   "outputs": [],
   "source": [
    "numerator = {}"
   ]
  },
  {
   "cell_type": "code",
   "execution_count": 28,
   "metadata": {},
   "outputs": [],
   "source": [
    "# Every key's 0 element is community and 1st element is store\n",
    "\n",
    "for key in keys:\n",
    "    numerator[key] = scaled.loc[key[1], 'Attractiveness']/distance.loc[key[0],key[1]]**2 "
   ]
  },
  {
   "cell_type": "code",
   "execution_count": 29,
   "metadata": {},
   "outputs": [
    {
     "name": "stdout",
     "output_type": "stream",
     "text": [
      "{('Blainville', 'Boisbraind'): 0.0029166666666666664, ('Blainville', 'Laval de Rapides'): 5.522682445759369e-05, ('Blainville', 'Rosmere'): 0.0038333333333333336, ('Blainville', 'saint-rose'): 0.0005204081632653061, ('Boisbrand', 'Boisbraind'): 4.666666666666666, ('Boisbrand', 'Laval de Rapides'): 7.713498622589531e-05, ('Boisbrand', 'Rosmere'): 0.008625, ('Boisbrand', 'saint-rose'): 0.006375, ('Carterville', 'Boisbraind'): 0.0004666666666666666, ('Carterville', 'Laval de Rapides'): 0.0023333333333333335, ('Carterville', 'Rosmere'): 0.00023958333333333335, ('Carterville', 'saint-rose'): 0.0003984375, ('Deux Montagnes', 'Boisbraind'): 0.0004666666666666666, ('Deux Montagnes', 'Laval de Rapides'): 0.00011522633744855967, ('Deux Montagnes', 'Rosmere'): 0.00015333333333333334, ('Deux Montagnes', 'saint-rose'): 0.00025499999999999996, ('Fabre villee', 'Boisbraind'): 0.0029166666666666664, ('Fabre villee', 'Laval de Rapides'): 0.0005833333333333334, ('Fabre villee', 'Rosmere'): 0.0013800000000000002, ('Fabre villee', 'saint-rose'): 0.006375, ('Laval de Rapides', 'Boisbraind'): 0.0007291666666666666, ('Laval de Rapides', 'Laval de Rapides'): 0.9333333333333333, ('Laval de Rapides', 'Rosmere'): 0.0005390625, ('Laval de Rapides', 'saint-rose'): 0.0005204081632653061, ('Saint therese', 'Boisbraind'): 0.011666666666666665, ('Saint therese', 'Laval de Rapides'): 5.522682445759369e-05, ('Saint therese', 'Rosmere'): 0.008625, ('Saint therese', 'saint-rose'): 0.00159375, ('Sainte Dorothee', 'Boisbraind'): 0.0004666666666666666, ('Sainte Dorothee', 'Laval de Rapides'): 0.0005833333333333334, ('Sainte Dorothee', 'Rosmere'): 0.00034500000000000004, ('Sainte Dorothee', 'saint-rose'): 0.0005204081632653061, ('bois des filion', 'Boisbraind'): 0.0007291666666666666, ('bois des filion', 'Laval de Rapides'): 6.481481481481482e-05, ('bois des filion', 'Rosmere'): 0.0038333333333333336, ('bois des filion', 'saint-rose'): 0.0005204081632653061}\n"
     ]
    }
   ],
   "source": [
    "print(numerator) # Now we get numerator for every community and every store"
   ]
  },
  {
   "cell_type": "markdown",
   "metadata": {},
   "source": [
    "## Calculating the probability of customers visiting the stores"
   ]
  },
  {
   "cell_type": "code",
   "execution_count": 30,
   "metadata": {},
   "outputs": [],
   "source": [
    "# Creating an empty Probability dictionary\n",
    "Pijs = {}"
   ]
  },
  {
   "cell_type": "code",
   "execution_count": 31,
   "metadata": {},
   "outputs": [
    {
     "data": {
      "text/plain": [
       "dict_items([(('Blainville', 'Boisbraind'), 0.0029166666666666664), (('Blainville', 'Laval de Rapides'), 5.522682445759369e-05), (('Blainville', 'Rosmere'), 0.0038333333333333336), (('Blainville', 'saint-rose'), 0.0005204081632653061), (('Boisbrand', 'Boisbraind'), 4.666666666666666), (('Boisbrand', 'Laval de Rapides'), 7.713498622589531e-05), (('Boisbrand', 'Rosmere'), 0.008625), (('Boisbrand', 'saint-rose'), 0.006375), (('Carterville', 'Boisbraind'), 0.0004666666666666666), (('Carterville', 'Laval de Rapides'), 0.0023333333333333335), (('Carterville', 'Rosmere'), 0.00023958333333333335), (('Carterville', 'saint-rose'), 0.0003984375), (('Deux Montagnes', 'Boisbraind'), 0.0004666666666666666), (('Deux Montagnes', 'Laval de Rapides'), 0.00011522633744855967), (('Deux Montagnes', 'Rosmere'), 0.00015333333333333334), (('Deux Montagnes', 'saint-rose'), 0.00025499999999999996), (('Fabre villee', 'Boisbraind'), 0.0029166666666666664), (('Fabre villee', 'Laval de Rapides'), 0.0005833333333333334), (('Fabre villee', 'Rosmere'), 0.0013800000000000002), (('Fabre villee', 'saint-rose'), 0.006375), (('Laval de Rapides', 'Boisbraind'), 0.0007291666666666666), (('Laval de Rapides', 'Laval de Rapides'), 0.9333333333333333), (('Laval de Rapides', 'Rosmere'), 0.0005390625), (('Laval de Rapides', 'saint-rose'), 0.0005204081632653061), (('Saint therese', 'Boisbraind'), 0.011666666666666665), (('Saint therese', 'Laval de Rapides'), 5.522682445759369e-05), (('Saint therese', 'Rosmere'), 0.008625), (('Saint therese', 'saint-rose'), 0.00159375), (('Sainte Dorothee', 'Boisbraind'), 0.0004666666666666666), (('Sainte Dorothee', 'Laval de Rapides'), 0.0005833333333333334), (('Sainte Dorothee', 'Rosmere'), 0.00034500000000000004), (('Sainte Dorothee', 'saint-rose'), 0.0005204081632653061), (('bois des filion', 'Boisbraind'), 0.0007291666666666666), (('bois des filion', 'Laval de Rapides'), 6.481481481481482e-05), (('bois des filion', 'Rosmere'), 0.0038333333333333336), (('bois des filion', 'saint-rose'), 0.0005204081632653061)])"
      ]
     },
     "execution_count": 31,
     "metadata": {},
     "output_type": "execute_result"
    }
   ],
   "source": [
    "# Viewing the keys (customers) and their values (stores) for reference\n",
    "numerator.items()"
   ]
  },
  {
   "cell_type": "code",
   "execution_count": 33,
   "metadata": {},
   "outputs": [],
   "source": [
    "# Calculating the probablity of a customer (key) visiting a store\n",
    "for key in keys:\n",
    "    Pijs[key] = numerator[key]/sum([v for k,v in numerator.items() if k[0]==key[0]])"
   ]
  },
  {
   "cell_type": "code",
   "execution_count": 34,
   "metadata": {},
   "outputs": [
    {
     "name": "stdout",
     "output_type": "stream",
     "text": [
      "{('Blainville', 'Boisbraind'): 0.3981452354034477, ('Blainville', 'Laval de Rapides'): 0.00753884469402978, ('Blainville', 'Rosmere'): 0.5232765951016742, ('Blainville', 'saint-rose'): 0.0710393248008484, ('Boisbrand', 'Boisbraind'): 0.9967795899081655, ('Boisbrand', 'Laval de Rapides'): 1.6475695700961416e-05, ('Boisbrand', 'Rosmere'): 0.001842262277776699, ('Boisbrand', 'saint-rose'): 0.0013616721183566905, ('Carterville', 'Boisbraind'): 0.13573700954400847, ('Carterville', 'Laval de Rapides'): 0.6786850477200425, ('Carterville', 'Rosmere'): 0.0696864111498258, ('Carterville', 'saint-rose'): 0.11589153158612331, ('Deux Montagnes', 'Boisbraind'): 0.47127272727272723, ('Deux Montagnes', 'Laval de Rapides'): 0.11636363636363636, ('Deux Montagnes', 'Rosmere'): 0.15484675324675326, ('Deux Montagnes', 'saint-rose'): 0.2575168831168831, ('Fabre villee', 'Boisbraind'): 0.25914408411076556, ('Fabre villee', 'Laval de Rapides'): 0.05182881682215312, ('Fabre villee', 'Rosmere'): 0.12261217236783653, ('Fabre villee', 'saint-rose'): 0.5664149266992448, ('Laval de Rapides', 'Boisbraind'): 0.0007797556784485362, ('Laval de Rapides', 'Laval de Rapides'): 0.9980872684141264, ('Laval de Rapides', 'Rosmere'): 0.0005764622337101679, ('Laval de Rapides', 'saint-rose'): 0.0005565136737148736, ('Saint therese', 'Boisbraind'): 0.531737670838425, ('Saint therese', 'Laval de Rapides'): 0.0025171014004185806, ('Saint therese', 'Rosmere'): 0.3931060637984071, ('Saint therese', 'saint-rose'): 0.07263916396274914, ('Sainte Dorothee', 'Boisbraind'): 0.24363823628647022, ('Sainte Dorothee', 'Laval de Rapides'): 0.30454779535808785, ('Sainte Dorothee', 'Rosmere'): 0.18011826754035482, ('Sainte Dorothee', 'saint-rose'): 0.2716957008150871, ('bois des filion', 'Boisbraind'): 0.14164838896179577, ('bois des filion', 'Laval de Rapides'): 0.01259096790771518, ('bois des filion', 'Rosmere'): 0.7446658162562978, ('bois des filion', 'saint-rose'): 0.10109482687419127}\n"
     ]
    }
   ],
   "source": [
    "print(Pijs) "
   ]
  },
  {
   "cell_type": "markdown",
   "metadata": {},
   "source": [
    "In the above output, the numeric values are the probability of the customer visiting the area. For example, the probablity that a customer from Blainville will go to a Boisbrand store is 0.39."
   ]
  },
  {
   "cell_type": "markdown",
   "metadata": {},
   "source": [
    "## Calculating the expected sales for every customer (key)"
   ]
  },
  {
   "cell_type": "code",
   "execution_count": 35,
   "metadata": {},
   "outputs": [],
   "source": [
    "exp_key = {}"
   ]
  },
  {
   "cell_type": "code",
   "execution_count": 36,
   "metadata": {},
   "outputs": [
    {
     "name": "stdout",
     "output_type": "stream",
     "text": [
      "                    Households  Expenditure grocery  Total Expenditure\n",
      "customer community                                                    \n",
      "Blainville                4000                  800            3200000\n",
      "Boisbrand                 8000                 1000            8000000\n",
      "Saint therese            12000                 1100           13200000\n",
      "Fabre villee              6000                  700            4200000\n",
      "Laval de Rapides          1000                 1200            1200000\n",
      "Sainte Dorothee           7000                  500            3500000\n",
      "Carterville               9000                  700            6300000\n",
      "bois des filion           5000                  900            4500000\n",
      "Deux Montagnes            4000                 1400            5600000\n"
     ]
    }
   ],
   "source": [
    "print(census)"
   ]
  },
  {
   "cell_type": "code",
   "execution_count": 37,
   "metadata": {},
   "outputs": [],
   "source": [
    "for key in keys:\n",
    "    exp_key[key] = Pijs[key]*census.loc[key[0], 'Total Expenditure']"
   ]
  },
  {
   "cell_type": "code",
   "execution_count": 38,
   "metadata": {},
   "outputs": [
    {
     "name": "stdout",
     "output_type": "stream",
     "text": [
      "{('Blainville', 'Boisbraind'): 1274064.7532910327, ('Blainville', 'Laval de Rapides'): 24124.303020895295, ('Blainville', 'Rosmere'): 1674485.1043253576, ('Blainville', 'saint-rose'): 227325.83936271488, ('Boisbrand', 'Boisbraind'): 7974236.719265324, ('Boisbrand', 'Laval de Rapides'): 131.80556560769134, ('Boisbrand', 'Rosmere'): 14738.098222213594, ('Boisbrand', 'saint-rose'): 10893.376946853525, ('Carterville', 'Boisbraind'): 855143.1601272534, ('Carterville', 'Laval de Rapides'): 4275715.800636267, ('Carterville', 'Rosmere'): 439024.3902439025, ('Carterville', 'saint-rose'): 730116.6489925769, ('Deux Montagnes', 'Boisbraind'): 2639127.2727272725, ('Deux Montagnes', 'Laval de Rapides'): 651636.3636363636, ('Deux Montagnes', 'Rosmere'): 867141.8181818182, ('Deux Montagnes', 'saint-rose'): 1442094.5454545452, ('Fabre villee', 'Boisbraind'): 1088405.1532652155, ('Fabre villee', 'Laval de Rapides'): 217681.03065304313, ('Fabre villee', 'Rosmere'): 514971.12394491344, ('Fabre villee', 'saint-rose'): 2378942.692136828, ('Laval de Rapides', 'Boisbraind'): 935.7068141382434, ('Laval de Rapides', 'Laval de Rapides'): 1197704.7220969517, ('Laval de Rapides', 'Rosmere'): 691.7546804522015, ('Laval de Rapides', 'saint-rose'): 667.8164084578483, ('Saint therese', 'Boisbraind'): 7018937.255067211, ('Saint therese', 'Laval de Rapides'): 33225.73848552526, ('Saint therese', 'Rosmere'): 5189000.042138974, ('Saint therese', 'saint-rose'): 958836.9643082886, ('Sainte Dorothee', 'Boisbraind'): 852733.8270026457, ('Sainte Dorothee', 'Laval de Rapides'): 1065917.2837533075, ('Sainte Dorothee', 'Rosmere'): 630413.9363912418, ('Sainte Dorothee', 'saint-rose'): 950934.9528528048, ('bois des filion', 'Boisbraind'): 637417.750328081, ('bois des filion', 'Laval de Rapides'): 56659.355584718316, ('bois des filion', 'Rosmere'): 3350996.17315334, ('bois des filion', 'saint-rose'): 454926.72093386075}\n"
     ]
    }
   ],
   "source": [
    "print(exp_key)"
   ]
  },
  {
   "cell_type": "markdown",
   "metadata": {},
   "source": [
    "The above output displays the expected sales derieved from a community visting the store location. For example, Boisbraind makes a sale of around 1 million dollars from a customer community based in Blainville."
   ]
  },
  {
   "cell_type": "markdown",
   "metadata": {},
   "source": [
    "## Calculating the expected sales for each store"
   ]
  },
  {
   "cell_type": "code",
   "execution_count": 40,
   "metadata": {},
   "outputs": [],
   "source": [
    "exp_store = {}"
   ]
  },
  {
   "cell_type": "code",
   "execution_count": 41,
   "metadata": {},
   "outputs": [],
   "source": [
    "for store in stores:\n",
    "    exp_store[store] = sum([v for k,v in exp_key.items() if k[1]==store])"
   ]
  },
  {
   "cell_type": "code",
   "execution_count": 42,
   "metadata": {},
   "outputs": [
    {
     "name": "stdout",
     "output_type": "stream",
     "text": [
      "{'Boisbraind': 22341001.597888175, 'Laval de Rapides': 7522796.403432679, 'Rosmere': 12681462.441282213, 'saint-rose': 7154739.557396932}\n"
     ]
    }
   ],
   "source": [
    "print(exp_store)"
   ]
  },
  {
   "cell_type": "markdown",
   "metadata": {},
   "source": [
    "# Conclusion: Boisbrand is the winner!"
   ]
  },
  {
   "cell_type": "markdown",
   "metadata": {},
   "source": [
    "## From the above output, the Boisbraind store displays the highest sales of around 22 million dollars. Therefore, Boisbraind would be the best choice to open a new store and also to maximize expected sales."
   ]
  }
 ],
 "metadata": {
  "kernelspec": {
   "display_name": "Python 3 (ipykernel)",
   "language": "python",
   "name": "python3"
  },
  "language_info": {
   "codemirror_mode": {
    "name": "ipython",
    "version": 3
   },
   "file_extension": ".py",
   "mimetype": "text/x-python",
   "name": "python",
   "nbconvert_exporter": "python",
   "pygments_lexer": "ipython3",
   "version": "3.8.5"
  }
 },
 "nbformat": 4,
 "nbformat_minor": 4
}
