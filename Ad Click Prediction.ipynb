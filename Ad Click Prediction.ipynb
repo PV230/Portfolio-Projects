{
 "cells": [
  {
   "cell_type": "markdown",
   "id": "05fb7ece",
   "metadata": {},
   "source": [
    "# Ad Click Prediction\n",
    "\n",
    "The objective of this project is to identify which Classification model has the highest accuracy score, in order to predict whether or not the user will click an advertisement.\n",
    "\n",
    "Dataset source: https://www.kaggle.com/jahnveenarang/cvdcvd-vd\n",
    "\n",
    "This file contains demographics about customer and whether that customer clicked the ad or not . You this file to use classification algorithm to predict on the basis of demographics of customer as independent variable\n",
    "\n",
    "This data set contains the following features:\n",
    "\n",
    "'User ID': unique identification for consumer\n",
    "'Age': cutomer age in years\n",
    "'Estimated Salary': Avg. Income of consumer\n",
    "'Gender': Whether consumer was male or female\n",
    "'Purchased': 0 or 1 indicated clicking on Ad"
   ]
  },
  {
   "cell_type": "markdown",
   "id": "96406d9e",
   "metadata": {},
   "source": [
    "## Data Pre-processing"
   ]
  },
  {
   "cell_type": "code",
   "execution_count": 1,
   "id": "21a6ffee",
   "metadata": {},
   "outputs": [],
   "source": [
    "import numpy as np\n",
    "import matplotlib.pyplot as plt\n",
    "import pandas as pd"
   ]
  },
  {
   "cell_type": "code",
   "execution_count": 3,
   "id": "81066c65",
   "metadata": {},
   "outputs": [],
   "source": [
    "adverts = pd.read_csv(r'C:\\Users\\praja\\Downloads\\Ad Click Prediction\\Social_Network_Ads.csv')"
   ]
  },
  {
   "cell_type": "code",
   "execution_count": 4,
   "id": "747adb4d",
   "metadata": {},
   "outputs": [
    {
     "data": {
      "text/html": [
       "<div>\n",
       "<style scoped>\n",
       "    .dataframe tbody tr th:only-of-type {\n",
       "        vertical-align: middle;\n",
       "    }\n",
       "\n",
       "    .dataframe tbody tr th {\n",
       "        vertical-align: top;\n",
       "    }\n",
       "\n",
       "    .dataframe thead th {\n",
       "        text-align: right;\n",
       "    }\n",
       "</style>\n",
       "<table border=\"1\" class=\"dataframe\">\n",
       "  <thead>\n",
       "    <tr style=\"text-align: right;\">\n",
       "      <th></th>\n",
       "      <th>User ID</th>\n",
       "      <th>Gender</th>\n",
       "      <th>Age</th>\n",
       "      <th>EstimatedSalary</th>\n",
       "      <th>Purchased</th>\n",
       "    </tr>\n",
       "  </thead>\n",
       "  <tbody>\n",
       "    <tr>\n",
       "      <th>0</th>\n",
       "      <td>15624510</td>\n",
       "      <td>Male</td>\n",
       "      <td>19</td>\n",
       "      <td>19000</td>\n",
       "      <td>0</td>\n",
       "    </tr>\n",
       "    <tr>\n",
       "      <th>1</th>\n",
       "      <td>15810944</td>\n",
       "      <td>Male</td>\n",
       "      <td>35</td>\n",
       "      <td>20000</td>\n",
       "      <td>0</td>\n",
       "    </tr>\n",
       "    <tr>\n",
       "      <th>2</th>\n",
       "      <td>15668575</td>\n",
       "      <td>Female</td>\n",
       "      <td>26</td>\n",
       "      <td>43000</td>\n",
       "      <td>0</td>\n",
       "    </tr>\n",
       "    <tr>\n",
       "      <th>3</th>\n",
       "      <td>15603246</td>\n",
       "      <td>Female</td>\n",
       "      <td>27</td>\n",
       "      <td>57000</td>\n",
       "      <td>0</td>\n",
       "    </tr>\n",
       "    <tr>\n",
       "      <th>4</th>\n",
       "      <td>15804002</td>\n",
       "      <td>Male</td>\n",
       "      <td>19</td>\n",
       "      <td>76000</td>\n",
       "      <td>0</td>\n",
       "    </tr>\n",
       "  </tbody>\n",
       "</table>\n",
       "</div>"
      ],
      "text/plain": [
       "    User ID  Gender  Age  EstimatedSalary  Purchased\n",
       "0  15624510    Male   19            19000          0\n",
       "1  15810944    Male   35            20000          0\n",
       "2  15668575  Female   26            43000          0\n",
       "3  15603246  Female   27            57000          0\n",
       "4  15804002    Male   19            76000          0"
      ]
     },
     "execution_count": 4,
     "metadata": {},
     "output_type": "execute_result"
    }
   ],
   "source": [
    "adverts.head()"
   ]
  },
  {
   "cell_type": "code",
   "execution_count": 9,
   "id": "8ee56304",
   "metadata": {},
   "outputs": [
    {
     "data": {
      "text/plain": [
       "False"
      ]
     },
     "execution_count": 9,
     "metadata": {},
     "output_type": "execute_result"
    }
   ],
   "source": [
    "adverts.isna().any().any()"
   ]
  },
  {
   "cell_type": "code",
   "execution_count": 5,
   "id": "470ba3c9",
   "metadata": {},
   "outputs": [],
   "source": [
    "# Assigning X and Y variables\n",
    "\n",
    "X = adverts.iloc[:, :-1].values\n",
    "y = adverts.iloc[:, -1].values"
   ]
  },
  {
   "cell_type": "code",
   "execution_count": 6,
   "id": "791227d2",
   "metadata": {},
   "outputs": [
    {
     "name": "stdout",
     "output_type": "stream",
     "text": [
      "[[15624510 'Male' 19 19000]\n",
      " [15810944 'Male' 35 20000]\n",
      " [15668575 'Female' 26 43000]\n",
      " ...\n",
      " [15654296 'Female' 50 20000]\n",
      " [15755018 'Male' 36 33000]\n",
      " [15594041 'Female' 49 36000]]\n"
     ]
    }
   ],
   "source": [
    "print(X)"
   ]
  },
  {
   "cell_type": "code",
   "execution_count": 7,
   "id": "cad78969",
   "metadata": {},
   "outputs": [
    {
     "name": "stdout",
     "output_type": "stream",
     "text": [
      "[0 0 0 0 0 0 0 1 0 0 0 0 0 0 0 0 1 1 1 1 1 1 1 1 1 1 1 1 0 0 0 1 0 0 0 0 0\n",
      " 0 0 0 0 0 0 0 0 0 0 0 1 0 0 0 0 0 0 0 0 0 0 0 0 0 0 1 0 0 0 0 0 0 0 0 0 0\n",
      " 0 1 0 0 0 0 0 0 0 0 0 1 0 0 0 0 0 0 0 0 0 0 0 1 0 0 0 0 0 1 0 0 0 0 0 0 0\n",
      " 0 0 0 0 0 0 0 0 0 0 0 0 0 0 0 0 0 0 0 0 0 0 0 0 0 0 1 0 0 0 0 0 0 0 0 1 0\n",
      " 0 0 0 0 0 0 0 0 0 0 0 1 1 0 0 0 0 0 0 0 1 0 0 0 0 0 0 0 0 0 0 0 0 0 1 0 0\n",
      " 0 0 0 0 0 0 0 0 0 0 0 0 0 0 0 0 0 1 0 1 0 1 0 1 0 1 1 0 0 0 1 0 0 0 1 0 1\n",
      " 1 1 0 0 1 1 0 1 1 0 1 1 0 1 0 0 0 1 1 0 1 1 0 1 0 1 0 1 0 0 1 1 0 1 0 0 1\n",
      " 1 0 1 1 0 1 1 0 0 1 0 0 1 1 1 1 1 0 1 1 1 1 0 1 1 0 1 0 1 0 1 1 1 1 0 0 0\n",
      " 1 1 0 1 1 1 1 1 0 0 0 1 1 0 0 1 0 1 0 1 1 0 1 0 1 1 0 1 1 0 0 0 1 1 0 1 0\n",
      " 0 1 0 1 0 0 1 1 0 0 1 1 0 1 1 0 0 1 0 1 0 1 1 1 0 1 0 1 1 1 0 1 1 1 1 0 1\n",
      " 1 1 0 1 0 1 0 0 1 1 0 1 1 1 1 1 1 0 1 1 1 1 1 1 0 1 1 1 0 1]\n"
     ]
    }
   ],
   "source": [
    "print(y)"
   ]
  },
  {
   "cell_type": "markdown",
   "id": "e227efea",
   "metadata": {},
   "source": [
    "## Encoding the categorical data in the independent variable column"
   ]
  },
  {
   "cell_type": "code",
   "execution_count": 10,
   "id": "a548fff8",
   "metadata": {},
   "outputs": [],
   "source": [
    "from sklearn.compose import ColumnTransformer\n",
    "from sklearn.preprocessing import OneHotEncoder\n",
    "ct = ColumnTransformer(transformers=[('encoder', OneHotEncoder(), [1])], remainder='passthrough')\n",
    "X = np.array(ct.fit_transform(X))"
   ]
  },
  {
   "cell_type": "code",
   "execution_count": 11,
   "id": "438e1fd4",
   "metadata": {},
   "outputs": [
    {
     "name": "stdout",
     "output_type": "stream",
     "text": [
      "[[0.0 1.0 15624510 19 19000]\n",
      " [0.0 1.0 15810944 35 20000]\n",
      " [1.0 0.0 15668575 26 43000]\n",
      " ...\n",
      " [1.0 0.0 15654296 50 20000]\n",
      " [0.0 1.0 15755018 36 33000]\n",
      " [1.0 0.0 15594041 49 36000]]\n"
     ]
    }
   ],
   "source": [
    "print(X)"
   ]
  },
  {
   "cell_type": "markdown",
   "id": "ab6dac82",
   "metadata": {},
   "source": [
    "The gender male has been encoded as 1 and female as 0."
   ]
  },
  {
   "cell_type": "markdown",
   "id": "b6d84b6f",
   "metadata": {},
   "source": [
    "## Splitting the dataset into the Training set and Test set"
   ]
  },
  {
   "cell_type": "code",
   "execution_count": 12,
   "id": "e9d09b59",
   "metadata": {},
   "outputs": [],
   "source": [
    "from sklearn.model_selection import train_test_split\n",
    "X_train, X_test, y_train, y_test = train_test_split(X, y, test_size = 0.2, random_state = 1)"
   ]
  },
  {
   "cell_type": "code",
   "execution_count": 13,
   "id": "fd54cb9a",
   "metadata": {},
   "outputs": [
    {
     "name": "stdout",
     "output_type": "stream",
     "text": [
      "[[1.0 0.0 15699284 29 28000]\n",
      " [1.0 0.0 15599081 45 22000]\n",
      " [0.0 1.0 15747043 46 117000]\n",
      " ...\n",
      " [0.0 1.0 15706071 51 23000]\n",
      " [0.0 1.0 15646227 46 79000]\n",
      " [0.0 1.0 15689425 30 49000]]\n"
     ]
    }
   ],
   "source": [
    "print(X_train)"
   ]
  },
  {
   "cell_type": "code",
   "execution_count": 14,
   "id": "d7227cf0",
   "metadata": {},
   "outputs": [
    {
     "name": "stdout",
     "output_type": "stream",
     "text": [
      "[[0.0 1.0 15755018 36 33000]\n",
      " [1.0 0.0 15697020 39 61000]\n",
      " [0.0 1.0 15796351 36 118000]\n",
      " [0.0 1.0 15665760 39 122000]\n",
      " [1.0 0.0 15794661 26 118000]\n",
      " [1.0 0.0 15717560 38 65000]\n",
      " [1.0 0.0 15680243 20 36000]\n",
      " [0.0 1.0 15596522 49 89000]\n",
      " [0.0 1.0 15669656 31 18000]\n",
      " [0.0 1.0 15638646 48 141000]\n",
      " [1.0 0.0 15644296 34 72000]\n",
      " [1.0 0.0 15629885 39 73000]\n",
      " [0.0 1.0 15674206 35 72000]\n",
      " [1.0 0.0 15575247 48 131000]\n",
      " [1.0 0.0 15611191 53 82000]\n",
      " [0.0 1.0 15685346 56 133000]\n",
      " [0.0 1.0 15774744 60 83000]\n",
      " [0.0 1.0 15728773 27 58000]\n",
      " [1.0 0.0 15667265 28 87000]\n",
      " [0.0 1.0 15593715 60 102000]\n",
      " [1.0 0.0 15724423 40 75000]\n",
      " [1.0 0.0 15780572 50 88000]\n",
      " [1.0 0.0 15715622 44 139000]\n",
      " [0.0 1.0 15622478 47 43000]\n",
      " [0.0 1.0 15617482 45 26000]\n",
      " [0.0 1.0 15809823 26 15000]\n",
      " [1.0 0.0 15574372 58 47000]\n",
      " [0.0 1.0 15708196 49 74000]\n",
      " [1.0 0.0 15778830 53 34000]\n",
      " [1.0 0.0 15794566 52 114000]\n",
      " [0.0 1.0 15668385 39 42000]\n",
      " [0.0 1.0 15804002 19 76000]\n",
      " [1.0 0.0 15578738 18 86000]\n",
      " [0.0 1.0 15727467 57 74000]\n",
      " [1.0 0.0 15598044 27 84000]\n",
      " [0.0 1.0 15595917 30 80000]\n",
      " [0.0 1.0 15642885 22 18000]\n",
      " [1.0 0.0 15584545 32 86000]\n",
      " [1.0 0.0 15654296 50 20000]\n",
      " [0.0 1.0 15741094 19 25000]\n",
      " [1.0 0.0 15746203 47 144000]\n",
      " [1.0 0.0 15660866 58 101000]\n",
      " [0.0 1.0 15570932 34 115000]\n",
      " [1.0 0.0 15595135 23 66000]\n",
      " [0.0 1.0 15775335 56 60000]\n",
      " [1.0 0.0 15663939 31 118000]\n",
      " [1.0 0.0 15668521 48 35000]\n",
      " [1.0 0.0 15733973 47 113000]\n",
      " [1.0 0.0 15747097 39 79000]\n",
      " [1.0 0.0 15613014 52 38000]\n",
      " [0.0 1.0 15718071 24 58000]\n",
      " [0.0 1.0 15622171 37 53000]\n",
      " [1.0 0.0 15721007 42 80000]\n",
      " [0.0 1.0 15704583 46 28000]\n",
      " [0.0 1.0 15673539 42 73000]\n",
      " [1.0 0.0 15631070 37 62000]\n",
      " [0.0 1.0 15791373 60 42000]\n",
      " [0.0 1.0 15591433 36 52000]\n",
      " [1.0 0.0 15569641 58 95000]\n",
      " [0.0 1.0 15577514 43 129000]\n",
      " [0.0 1.0 15789863 27 89000]\n",
      " [1.0 0.0 15654574 23 82000]\n",
      " [1.0 0.0 15619407 38 112000]\n",
      " [1.0 0.0 15638003 35 50000]\n",
      " [0.0 1.0 15699619 36 99000]\n",
      " [0.0 1.0 15694879 37 144000]\n",
      " [1.0 0.0 15706185 26 35000]\n",
      " [1.0 0.0 15717893 42 70000]\n",
      " [1.0 0.0 15680752 43 133000]\n",
      " [1.0 0.0 15733964 38 50000]\n",
      " [1.0 0.0 15666675 46 96000]\n",
      " [1.0 0.0 15709441 35 44000]\n",
      " [1.0 0.0 15800515 38 113000]\n",
      " [0.0 1.0 15627220 39 71000]\n",
      " [1.0 0.0 15606274 26 52000]\n",
      " [1.0 0.0 15768151 54 108000]\n",
      " [1.0 0.0 15591915 33 51000]\n",
      " [0.0 1.0 15685576 26 16000]\n",
      " [0.0 1.0 15725660 30 87000]\n",
      " [1.0 0.0 15575002 35 60000]]\n"
     ]
    }
   ],
   "source": [
    "print(X_test)"
   ]
  },
  {
   "cell_type": "code",
   "execution_count": 15,
   "id": "227da198",
   "metadata": {},
   "outputs": [
    {
     "name": "stdout",
     "output_type": "stream",
     "text": [
      "[0 1 1 0 0 0 1 0 1 0 1 1 1 0 0 1 1 1 0 0 0 1 0 1 0 1 0 1 0 0 0 0 0 0 1 0 0\n",
      " 0 0 1 0 0 1 1 0 0 0 0 0 1 0 0 1 1 1 0 0 0 0 0 0 0 0 0 0 0 0 0 0 1 1 0 0 0\n",
      " 1 1 0 0 0 1 0 1 1 0 0 0 1 1 0 0 1 1 0 1 0 0 0 0 0 0 0 1 0 0 0 1 0 0 1 0 1\n",
      " 0 1 0 0 0 0 1 0 0 1 0 0 1 1 0 1 0 0 0 1 1 1 0 0 0 0 0 1 1 0 0 0 1 0 0 0 1\n",
      " 0 1 1 0 1 1 0 0 0 0 1 0 0 1 0 0 0 0 0 1 1 1 0 0 0 0 0 1 0 0 1 1 0 0 0 0 1\n",
      " 0 1 0 1 0 0 1 0 1 0 0 0 0 1 0 1 0 0 1 0 0 0 0 0 1 0 0 0 0 0 1 1 0 0 0 0 1\n",
      " 0 1 0 0 0 0 0 1 0 0 1 1 1 0 0 0 1 0 0 1 1 0 1 0 1 0 0 0 0 0 1 0 1 0 0 1 1\n",
      " 0 0 1 1 1 0 0 0 1 0 1 1 1 0 0 1 0 0 0 1 0 0 0 1 0 1 0 1 0 1 1 0 0 1 0 0 1\n",
      " 0 1 0 0 0 1 0 0 0 0 0 0 0 0 0 0 0 0 1 1 0 1 1 0]\n"
     ]
    }
   ],
   "source": [
    "print(y_train)"
   ]
  },
  {
   "cell_type": "code",
   "execution_count": 16,
   "id": "1c33d903",
   "metadata": {},
   "outputs": [
    {
     "name": "stdout",
     "output_type": "stream",
     "text": [
      "[0 0 1 1 0 0 0 1 0 0 0 0 0 1 1 1 1 0 0 1 0 1 1 0 1 0 1 0 1 0 0 0 0 1 0 0 0\n",
      " 0 1 0 1 1 0 0 1 1 1 1 0 1 0 0 1 1 1 0 1 0 1 1 0 0 0 0 1 1 0 0 0 0 0 0 1 0\n",
      " 0 1 0 0 0 0]\n"
     ]
    }
   ],
   "source": [
    "print(y_test)"
   ]
  },
  {
   "cell_type": "markdown",
   "id": "a3f09e19",
   "metadata": {},
   "source": [
    "## Applying Feature Scaling"
   ]
  },
  {
   "cell_type": "code",
   "execution_count": 17,
   "id": "6b6f0376",
   "metadata": {},
   "outputs": [],
   "source": [
    "from sklearn.preprocessing import StandardScaler\n",
    "sc = StandardScaler()\n",
    "X_train[:, 2:] = sc.fit_transform(X_train[:, 2:])\n",
    "X_test[:, 2:] = sc.transform(X_test[:, 2:])"
   ]
  },
  {
   "cell_type": "code",
   "execution_count": 18,
   "id": "81302aaa",
   "metadata": {},
   "outputs": [
    {
     "name": "stdout",
     "output_type": "stream",
     "text": [
      "[[1.0 0.0 0.06699777180367887 -0.8033008104771288 -1.1912179543545012]\n",
      " [1.0 0.0 -1.3281673745230116 0.7569799746681295 -1.368598012704171]\n",
      " [0.0 1.0 0.7319648109483793 0.8544975237397081 1.4399195778322673]\n",
      " ...\n",
      " [0.0 1.0 0.161495799289076 1.3420852690976013 -1.3390346696458928]\n",
      " [0.0 1.0 -0.6717353716017602 0.8544975237397081 0.31651254161769204]\n",
      " [0.0 1.0 -0.07027290050787709 -0.7057832614055501 -0.5703877501306569]]\n"
     ]
    }
   ],
   "source": [
    "print(X_train)"
   ]
  },
  {
   "cell_type": "code",
   "execution_count": 19,
   "id": "25fffb9e",
   "metadata": {},
   "outputs": [
    {
     "name": "stdout",
     "output_type": "stream",
     "text": [
      "[[0.0 1.0 0.8430038221751425 -0.12067796697607829 -1.0434012390631098]\n",
      " [1.0 0.0 0.03547522366356702 0.17187468023865762 -0.21562763343131733]\n",
      " [0.0 1.0 1.418499176536999 -0.12067796697607829 1.4694829208905458]\n",
      " [0.0 1.0 -0.3997698535713695 0.17187468023865762 1.587736293123659]\n",
      " [1.0 0.0 1.3949686525278164 -1.0958534576918646 1.4694829208905458]\n",
      " [1.0 0.0 0.3214615923905535 0.074357131167079 -0.09737426119820415]\n",
      " [1.0 0.0 -0.1981174398287724 -1.6809587521213365 -0.9547112098882748]\n",
      " [0.0 1.0 -1.3637973218244897 1.147050170954444 0.6121459722004751]\n",
      " [0.0 1.0 -0.3455243378673608 -0.6082657123339715 -1.4868513849372842]\n",
      " [0.0 1.0 -0.7772885683553769 1.0495326218828653 2.1494398112309465]\n",
      " [1.0 0.0 -0.698621431874974 -0.3157130651192356 0.10956914020974394]\n",
      " [1.0 0.0 -0.8992713617544581 0.17187468023865762 0.13913248326802224]\n",
      " [0.0 1.0 -0.2821729270734081 -0.21819551604765694 0.10956914020974394]\n",
      " [1.0 0.0 -1.6600173799874223 1.0495326218828653 1.8538063806481635]\n",
      " [1.0 0.0 -1.1595551581021837 1.5371203672407585 0.4052025707925269]\n",
      " [0.0 1.0 -0.1270663960306316 1.8296730144554945 1.9129330667647202]\n",
      " [0.0 1.0 1.1176565538941559 2.219743210741809 0.4347659138508052]\n",
      " [0.0 1.0 0.47758453068343076 -0.9983359086202861 -0.30431766260615223]\n",
      " [1.0 0.0 -0.37881515615490824 -0.9008183595487074 0.5530192860839184]\n",
      " [0.0 1.0 -1.4028802690989128 2.219743210741809 0.9964694319580929]\n",
      " [1.0 0.0 0.41701779728701444 0.26939222931023626 0.19825916938457885]\n",
      " [1.0 0.0 1.198802053258366 1.2445677200260228 0.5825826291421967]\n",
      " [1.0 0.0 0.29447806840842594 0.6594624255965509 2.09031312511439]\n",
      " [0.0 1.0 -1.002401889172218 0.9520150728112867 -0.7477678084803268]\n",
      " [0.0 1.0 -1.071963130562677 0.7569799746681295 -1.2503446404710579]\n",
      " [0.0 1.0 1.6060750460350497 -1.0958534576918646 -1.5755414141121191]\n",
      " [1.0 0.0 -1.672200343601644 2.0247081125986517 -0.6295144362472135]\n",
      " [0.0 1.0 0.19108299663790004 1.147050170954444 0.16869582632630054]\n",
      " [1.0 0.0 1.174547513125824 1.5371203672407585 -1.0138378960048313]\n",
      " [1.0 0.0 1.3936459307639868 1.43960281816918 1.3512295486574324]\n",
      " [0.0 1.0 -0.3632209627287045 0.17187468023865762 -0.777331151538605]\n",
      " [0.0 1.0 1.5250270103797532 -1.7784763011929152 0.22782251244285714]\n",
      " [1.0 0.0 -1.6114108360134247 -1.875993850264494 0.5234559430256401]\n",
      " [0.0 1.0 0.45940058727751815 1.9271905635270732 0.16869582632630054]\n",
      " [1.0 0.0 -1.3426059268292379 -0.9983359086202861 0.46432925690908355]\n",
      " [0.0 1.0 -1.3722209709520372 -0.7057832614055501 0.34607588467597034]\n",
      " [0.0 1.0 -0.7182673309145933 -1.4859236539781793 -1.4868513849372842]\n",
      " [1.0 0.0 -1.530557727775956 -0.5107481632623928 0.5234559430256401]\n",
      " [1.0 0.0 -0.559387561998155 1.2445677200260228 -1.4277246988207275]\n",
      " [0.0 1.0 0.6491345817586596 -1.7784763011929152 -1.279907983529336]\n",
      " [1.0 0.0 0.7202691658787265 0.9520150728112867 2.2381298404057817]\n",
      " [1.0 0.0 -0.46791090948908476 2.0247081125986517 0.9669060888998146]\n",
      " [0.0 1.0 -1.7200967948392698 -0.3157130651192356 1.3807928917157108]\n",
      " [1.0 0.0 -1.3831090595764044 -1.3884061049066005 -0.06781091813992585]\n",
      " [0.0 1.0 1.125885275603876 1.8296730144554945 -0.24519097648959565]\n",
      " [1.0 0.0 -0.4251243412759383 -0.6082657123339715 1.4694829208905458]\n",
      " [1.0 0.0 -0.3613273820983798 1.0495326218828653 -0.9842745529465531]\n",
      " [1.0 0.0 0.5499861430193766 0.9520150728112867 1.3216662055991542]\n",
      " [1.0 0.0 0.732716673845714 0.17187468023865762 0.31651254161769204]\n",
      " [1.0 0.0 -1.1341728236236397 1.43960281816918 -0.8955845237717182]\n",
      " [0.0 1.0 0.32857644314125894 -1.290888555835022 -0.30431766260615223]\n",
      " [0.0 1.0 -1.0066763689774363 -0.02316041790449965 -0.45213437789754374]\n",
      " [1.0 0.0 0.36945550733709304 0.46442732745339355 0.34607588467597034]\n",
      " [0.0 1.0 0.1407777994514053 0.8544975237397081 -1.1912179543545012]\n",
      " [0.0 1.0 -0.2914598261941919 0.46442732745339355 0.13913248326802224]\n",
      " [1.0 0.0 -0.882772148174055 -0.02316041790449965 -0.18606429037303904]\n",
      " [0.0 1.0 1.3491885561123182 2.219743210741809 -0.777331151538605]\n",
      " [0.0 1.0 -1.4346534382048028 -0.12067796697607829 -0.48169772095582203]\n",
      " [1.0 0.0 -1.7380718874403671 2.0247081125986517 0.7895260305501448]\n",
      " [0.0 1.0 -1.6284530616863475 0.5619448765249722 1.794679694531607]\n",
      " [0.0 1.0 1.3281642417609187 -0.9983359086202861 0.6121459722004751]\n",
      " [1.0 0.0 -0.5555168604155793 -1.3884061049066005 0.4052025707925269]\n",
      " [1.0 0.0 -1.045160610611389 0.074357131167079 1.292102862540876]\n",
      " [1.0 0.0 -0.7862413061884563 -0.21819551604765694 -0.5408244070723787]\n",
      " [0.0 1.0 0.0716621064445523 -0.12067796697607829 0.907779402783258]\n",
      " [0.0 1.0 0.00566525212294005 -0.02316041790449965 2.2381298404057817]\n",
      " [1.0 0.0 0.16308306540567175 -1.0958534576918646 -0.9842745529465531]\n",
      " [1.0 0.0 0.3260980802574516 0.46442732745339355 0.050442454093187344]\n",
      " [1.0 0.0 -0.1910304358520423 0.5619448765249722 1.9129330667647202]\n",
      " [1.0 0.0 0.5498608325364875 0.074357131167079 -0.5408244070723787]\n",
      " [1.0 0.0 -0.38702995447764055 0.8544975237397081 0.8190893736084232]\n",
      " [1.0 0.0 0.20841761343756404 -0.21819551604765694 -0.7182044654220484]\n",
      " [1.0 0.0 1.4764761599537064 0.074357131167079 1.3216662055991542]\n",
      " [0.0 1.0 -0.9363771880766304 0.17187468023865762 0.08000579715146565]\n",
      " [1.0 0.0 -1.2280164519206156 -1.0958534576918646 -0.48169772095582203]\n",
      " [1.0 0.0 1.025859663484369 1.6346379163123372 1.1738494903077628]\n",
      " [1.0 0.0 -1.4279423656767403 -0.4132306141908142 -0.5112610640141003]\n",
      " [0.0 1.0 -0.12386401702346476 -1.0958534576918646 -1.5459780710538409]\n",
      " [0.0 1.0 0.43424102699077693 -0.7057832614055501 0.5530192860839184]\n",
      " [1.0 0.0 -1.6634286097994044 -0.21819551604765694 -0.24519097648959565]]\n"
     ]
    }
   ],
   "source": [
    "print(X_test)"
   ]
  },
  {
   "cell_type": "markdown",
   "id": "0f32f2df",
   "metadata": {},
   "source": [
    "## Model 1: Logistic Regression"
   ]
  },
  {
   "cell_type": "code",
   "execution_count": 20,
   "id": "f1c151ea",
   "metadata": {},
   "outputs": [
    {
     "data": {
      "text/plain": [
       "LogisticRegression(random_state=0)"
      ]
     },
     "execution_count": 20,
     "metadata": {},
     "output_type": "execute_result"
    }
   ],
   "source": [
    "# Training the Logistic Regression model on the Training set\n",
    "\n",
    "from sklearn.linear_model import LogisticRegression\n",
    "classifier = LogisticRegression(random_state = 0)\n",
    "classifier.fit(X_train, y_train)"
   ]
  },
  {
   "cell_type": "code",
   "execution_count": 22,
   "id": "87d49e58",
   "metadata": {},
   "outputs": [
    {
     "name": "stdout",
     "output_type": "stream",
     "text": [
      "[[0 0]\n",
      " [0 0]\n",
      " [1 1]\n",
      " [1 1]\n",
      " [0 0]\n",
      " [0 0]\n",
      " [0 0]\n",
      " [1 1]\n",
      " [0 0]\n",
      " [1 0]\n",
      " [0 0]\n",
      " [0 0]\n",
      " [0 0]\n",
      " [1 1]\n",
      " [1 1]\n",
      " [1 1]\n",
      " [1 1]\n",
      " [0 0]\n",
      " [0 0]\n",
      " [1 1]\n",
      " [0 0]\n",
      " [1 1]\n",
      " [1 1]\n",
      " [1 0]\n",
      " [0 1]\n",
      " [0 0]\n",
      " [1 1]\n",
      " [1 0]\n",
      " [1 1]\n",
      " [1 0]\n",
      " [0 0]\n",
      " [0 0]\n",
      " [0 0]\n",
      " [1 1]\n",
      " [0 0]\n",
      " [0 0]\n",
      " [0 0]\n",
      " [0 0]\n",
      " [0 1]\n",
      " [0 0]\n",
      " [1 1]\n",
      " [1 1]\n",
      " [1 0]\n",
      " [0 0]\n",
      " [1 1]\n",
      " [0 1]\n",
      " [0 1]\n",
      " [1 1]\n",
      " [0 0]\n",
      " [1 1]\n",
      " [0 0]\n",
      " [0 0]\n",
      " [1 1]\n",
      " [0 1]\n",
      " [1 1]\n",
      " [0 0]\n",
      " [1 1]\n",
      " [0 0]\n",
      " [1 1]\n",
      " [1 1]\n",
      " [0 0]\n",
      " [0 0]\n",
      " [1 0]\n",
      " [0 0]\n",
      " [0 1]\n",
      " [1 1]\n",
      " [0 0]\n",
      " [0 0]\n",
      " [1 0]\n",
      " [0 0]\n",
      " [1 0]\n",
      " [0 0]\n",
      " [1 1]\n",
      " [0 0]\n",
      " [0 0]\n",
      " [1 1]\n",
      " [0 0]\n",
      " [0 0]\n",
      " [0 0]\n",
      " [0 0]]\n"
     ]
    }
   ],
   "source": [
    "# Predicting the Test results\n",
    "\n",
    "y_pred = classifier.predict(X_test)\n",
    "print(np.concatenate((y_pred.reshape(len(y_pred),1), y_test.reshape(len(y_test),1)),1))"
   ]
  },
  {
   "cell_type": "code",
   "execution_count": 23,
   "id": "5e0cc90a",
   "metadata": {},
   "outputs": [
    {
     "name": "stdout",
     "output_type": "stream",
     "text": [
      "[[40  8]\n",
      " [ 6 26]]\n"
     ]
    },
    {
     "data": {
      "text/plain": [
       "0.825"
      ]
     },
     "execution_count": 23,
     "metadata": {},
     "output_type": "execute_result"
    }
   ],
   "source": [
    "# Making Confusion Matrix\n",
    "\n",
    "from sklearn.metrics import confusion_matrix, accuracy_score\n",
    "cm = confusion_matrix(y_test, y_pred)\n",
    "print(cm)\n",
    "accuracy_score(y_test, y_pred)"
   ]
  },
  {
   "cell_type": "markdown",
   "id": "9618036d",
   "metadata": {},
   "source": [
    "Logistic Regression Model has 82.5% accuracy."
   ]
  },
  {
   "cell_type": "markdown",
   "id": "5b891b3d",
   "metadata": {},
   "source": [
    "## Model 2: K-NN"
   ]
  },
  {
   "cell_type": "code",
   "execution_count": 24,
   "id": "502cadbc",
   "metadata": {},
   "outputs": [
    {
     "data": {
      "text/plain": [
       "KNeighborsClassifier()"
      ]
     },
     "execution_count": 24,
     "metadata": {},
     "output_type": "execute_result"
    }
   ],
   "source": [
    "# Training the K-NN model on the Training set\n",
    "\n",
    "from sklearn.neighbors import KNeighborsClassifier\n",
    "classifier = KNeighborsClassifier(n_neighbors = 5, metric = 'minkowski', p = 2) # all values inside bracket are default values\n",
    "classifier.fit(X_train, y_train)"
   ]
  },
  {
   "cell_type": "code",
   "execution_count": 26,
   "id": "033cd789",
   "metadata": {},
   "outputs": [
    {
     "name": "stdout",
     "output_type": "stream",
     "text": [
      "[[41  7]\n",
      " [ 3 29]]\n"
     ]
    },
    {
     "data": {
      "text/plain": [
       "0.875"
      ]
     },
     "execution_count": 26,
     "metadata": {},
     "output_type": "execute_result"
    }
   ],
   "source": [
    "# Confusion matrix\n",
    "\n",
    "from sklearn.metrics import confusion_matrix, accuracy_score\n",
    "y_pred = classifier.predict(X_test)\n",
    "cm = confusion_matrix(y_test, y_pred)\n",
    "print(cm)\n",
    "accuracy_score(y_test, y_pred)"
   ]
  },
  {
   "cell_type": "markdown",
   "id": "b2ed93c5",
   "metadata": {},
   "source": [
    "K-NN Model has 87.5% accuracy."
   ]
  },
  {
   "cell_type": "markdown",
   "id": "ec01643e",
   "metadata": {},
   "source": [
    "## Model 3: SVM"
   ]
  },
  {
   "cell_type": "code",
   "execution_count": 27,
   "id": "5732b139",
   "metadata": {},
   "outputs": [
    {
     "data": {
      "text/plain": [
       "SVC(kernel='linear', random_state=0)"
      ]
     },
     "execution_count": 27,
     "metadata": {},
     "output_type": "execute_result"
    }
   ],
   "source": [
    "from sklearn.svm import SVC\n",
    "classifier = SVC(kernel = 'linear', random_state = 0)\n",
    "classifier.fit(X_train, y_train)"
   ]
  },
  {
   "cell_type": "code",
   "execution_count": 28,
   "id": "00918468",
   "metadata": {},
   "outputs": [
    {
     "name": "stdout",
     "output_type": "stream",
     "text": [
      "[[41  7]\n",
      " [ 7 25]]\n"
     ]
    },
    {
     "data": {
      "text/plain": [
       "0.825"
      ]
     },
     "execution_count": 28,
     "metadata": {},
     "output_type": "execute_result"
    }
   ],
   "source": [
    "from sklearn.metrics import confusion_matrix, accuracy_score\n",
    "y_pred = classifier.predict(X_test)\n",
    "cm = confusion_matrix(y_test, y_pred)\n",
    "print(cm)\n",
    "accuracy_score(y_test, y_pred)"
   ]
  },
  {
   "cell_type": "markdown",
   "id": "93ba371e",
   "metadata": {},
   "source": [
    "SVM Model has 82.5% accuracy."
   ]
  },
  {
   "cell_type": "markdown",
   "id": "19fb9ac1",
   "metadata": {},
   "source": [
    "## Model 4: Kernel SVM"
   ]
  },
  {
   "cell_type": "code",
   "execution_count": 29,
   "id": "f8fea0eb",
   "metadata": {},
   "outputs": [
    {
     "data": {
      "text/plain": [
       "SVC(random_state=0)"
      ]
     },
     "execution_count": 29,
     "metadata": {},
     "output_type": "execute_result"
    }
   ],
   "source": [
    "from sklearn.svm import SVC\n",
    "classifier = SVC(kernel = 'rbf', random_state = 0)\n",
    "classifier.fit(X_train, y_train)"
   ]
  },
  {
   "cell_type": "code",
   "execution_count": 30,
   "id": "a3bdefa4",
   "metadata": {},
   "outputs": [
    {
     "name": "stdout",
     "output_type": "stream",
     "text": [
      "[[39  9]\n",
      " [ 2 30]]\n"
     ]
    },
    {
     "data": {
      "text/plain": [
       "0.8625"
      ]
     },
     "execution_count": 30,
     "metadata": {},
     "output_type": "execute_result"
    }
   ],
   "source": [
    "from sklearn.metrics import confusion_matrix, accuracy_score\n",
    "y_pred = classifier.predict(X_test)\n",
    "cm = confusion_matrix(y_test, y_pred)\n",
    "print(cm)\n",
    "accuracy_score(y_test, y_pred)"
   ]
  },
  {
   "cell_type": "code",
   "execution_count": null,
   "id": "80ca85ce",
   "metadata": {},
   "outputs": [],
   "source": [
    "Kernel-SVM Model has 86.25% accuracy."
   ]
  },
  {
   "cell_type": "markdown",
   "id": "202c2630",
   "metadata": {},
   "source": [
    "## Model 5: Naive Bayes"
   ]
  },
  {
   "cell_type": "code",
   "execution_count": 31,
   "id": "0f392f85",
   "metadata": {},
   "outputs": [
    {
     "data": {
      "text/plain": [
       "GaussianNB()"
      ]
     },
     "execution_count": 31,
     "metadata": {},
     "output_type": "execute_result"
    }
   ],
   "source": [
    "from sklearn.naive_bayes import GaussianNB\n",
    "classifier = GaussianNB()\n",
    "classifier.fit(X_train, y_train)"
   ]
  },
  {
   "cell_type": "code",
   "execution_count": 32,
   "id": "acd62aa8",
   "metadata": {},
   "outputs": [
    {
     "name": "stdout",
     "output_type": "stream",
     "text": [
      "[[41  7]\n",
      " [ 5 27]]\n"
     ]
    },
    {
     "data": {
      "text/plain": [
       "0.85"
      ]
     },
     "execution_count": 32,
     "metadata": {},
     "output_type": "execute_result"
    }
   ],
   "source": [
    "from sklearn.metrics import confusion_matrix, accuracy_score\n",
    "y_pred = classifier.predict(X_test)\n",
    "cm = confusion_matrix(y_test, y_pred)\n",
    "print(cm)\n",
    "accuracy_score(y_test, y_pred)"
   ]
  },
  {
   "cell_type": "markdown",
   "id": "ccce5f07",
   "metadata": {},
   "source": [
    "Naive Bayes has 85% accuracy."
   ]
  },
  {
   "cell_type": "markdown",
   "id": "9a49e1fe",
   "metadata": {},
   "source": [
    "## Model 6: Decision Tree Classification"
   ]
  },
  {
   "cell_type": "code",
   "execution_count": 33,
   "id": "016e260f",
   "metadata": {},
   "outputs": [
    {
     "data": {
      "text/plain": [
       "DecisionTreeClassifier(criterion='entropy', random_state=0)"
      ]
     },
     "execution_count": 33,
     "metadata": {},
     "output_type": "execute_result"
    }
   ],
   "source": [
    "from sklearn.tree import DecisionTreeClassifier\n",
    "classifier = DecisionTreeClassifier(criterion = 'entropy', random_state = 0)\n",
    "classifier.fit(X_train, y_train)"
   ]
  },
  {
   "cell_type": "code",
   "execution_count": 34,
   "id": "22cbd993",
   "metadata": {},
   "outputs": [
    {
     "name": "stdout",
     "output_type": "stream",
     "text": [
      "[[41  7]\n",
      " [ 7 25]]\n"
     ]
    },
    {
     "data": {
      "text/plain": [
       "0.825"
      ]
     },
     "execution_count": 34,
     "metadata": {},
     "output_type": "execute_result"
    }
   ],
   "source": [
    "from sklearn.metrics import confusion_matrix, accuracy_score\n",
    "y_pred = classifier.predict(X_test)\n",
    "cm = confusion_matrix(y_test, y_pred)\n",
    "print(cm)\n",
    "accuracy_score(y_test, y_pred)"
   ]
  },
  {
   "cell_type": "markdown",
   "id": "0210a4cc",
   "metadata": {},
   "source": [
    "Decision Tree Classification has 82.5% accuracy."
   ]
  },
  {
   "cell_type": "markdown",
   "id": "50c73f9a",
   "metadata": {},
   "source": [
    "## Model 7: Random Forest Classification"
   ]
  },
  {
   "cell_type": "code",
   "execution_count": 35,
   "id": "2a4db79e",
   "metadata": {},
   "outputs": [
    {
     "data": {
      "text/plain": [
       "RandomForestClassifier(criterion='entropy', n_estimators=10, random_state=0)"
      ]
     },
     "execution_count": 35,
     "metadata": {},
     "output_type": "execute_result"
    }
   ],
   "source": [
    "from sklearn.ensemble import RandomForestClassifier\n",
    "classifier = RandomForestClassifier(n_estimators = 10, criterion = 'entropy', random_state = 0)\n",
    "classifier.fit(X_train, y_train)"
   ]
  },
  {
   "cell_type": "code",
   "execution_count": 36,
   "id": "b66c6864",
   "metadata": {},
   "outputs": [
    {
     "name": "stdout",
     "output_type": "stream",
     "text": [
      "[[40  8]\n",
      " [ 2 30]]\n"
     ]
    },
    {
     "data": {
      "text/plain": [
       "0.875"
      ]
     },
     "execution_count": 36,
     "metadata": {},
     "output_type": "execute_result"
    }
   ],
   "source": [
    "from sklearn.metrics import confusion_matrix, accuracy_score\n",
    "y_pred = classifier.predict(X_test)\n",
    "cm = confusion_matrix(y_test, y_pred)\n",
    "print(cm)\n",
    "accuracy_score(y_test, y_pred)"
   ]
  },
  {
   "cell_type": "code",
   "execution_count": null,
   "id": "c8b02bc5",
   "metadata": {},
   "outputs": [],
   "source": [
    "Decision Tree Classification has 87.5% accuracy."
   ]
  },
  {
   "cell_type": "markdown",
   "id": "5006b0c7",
   "metadata": {},
   "source": [
    "## Conclusion: K-NN Model has the highest accuracy score (87.5%) and it is therefore, the best model to predict whether the customer will make a purchase or not."
   ]
  }
 ],
 "metadata": {
  "kernelspec": {
   "display_name": "Python 3 (ipykernel)",
   "language": "python",
   "name": "python3"
  },
  "language_info": {
   "codemirror_mode": {
    "name": "ipython",
    "version": 3
   },
   "file_extension": ".py",
   "mimetype": "text/x-python",
   "name": "python",
   "nbconvert_exporter": "python",
   "pygments_lexer": "ipython3",
   "version": "3.8.5"
  }
 },
 "nbformat": 4,
 "nbformat_minor": 5
}
